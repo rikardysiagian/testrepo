{
 "cells": [
  {
   "cell_type": "markdown",
   "id": "59444e91-5b13-42a6-95dd-d37aad10dbee",
   "metadata": {
    "jp-MarkdownHeadingCollapsed": true,
    "tags": []
   },
   "source": [
    "## Test JupyterLab"
   ]
  },
  {
   "cell_type": "code",
   "execution_count": 2,
   "id": "e8942e21-0e11-44e0-ba06-c7cfc40578ca",
   "metadata": {},
   "outputs": [
    {
     "name": "stdout",
     "output_type": "stream",
     "text": [
      "RikardySiagian\n"
     ]
    }
   ],
   "source": [
    "a = 'Rikardy'\n",
    "b = 'Siagian'\n",
    "print (a + b)"
   ]
  },
  {
   "cell_type": "markdown",
   "id": "269d22a1-bf3b-46a4-adaf-02764dec42c8",
   "metadata": {},
   "source": [
    "<a href=\"https://dataplatform.cloud.ibm.com/gallery\">IBM Cloud Gallery</a> "
   ]
  },
  {
   "cell_type": "markdown",
   "id": "057a868e-8c78-4901-97b0-1436012eee36",
   "metadata": {
    "jp-MarkdownHeadingCollapsed": true,
    "tags": []
   },
   "source": [
    "## Create Tables Using Markdown\n",
    "|Nomor|Nama Lengkap|ID|\n",
    "|-----|------------|--|\n",
    "|1|Rikardy|941|\n",
    "|2|Siagian|367|\n",
    "|3|Kika|456|"
   ]
  },
  {
   "cell_type": "markdown",
   "id": "76bff692-d483-4581-bff5-9a283d6db031",
   "metadata": {
    "tags": []
   },
   "source": [
    "# Markdown Cheatsheet\n",
    "## 1 Headers\n",
    "# H1\n",
    "## H2\n",
    "### H3\n",
    "#### H4\n",
    "##### H5\n",
    "###### H6\n",
    "\n",
    "Alternatively, for H1 and H2, an underline-ish style:\n",
    "\n",
    "Alt-H1\n",
    "======\n",
    "\n",
    "Alt-H2\n",
    "------"
   ]
  },
  {
   "cell_type": "markdown",
   "id": "3ec768d0-b3f2-4fdb-bdf9-2744e7b68cbc",
   "metadata": {},
   "source": [
    "## 2 Emphasis\n",
    "Emphasis, aka italics, with *asterisks* or _underscores_.\n",
    "\n",
    "Strong emphasis, aka bold, with **asterisks** or __underscores__.\n",
    "\n",
    "Combined emphasis with **asterisks and _underscores_**.\n",
    "\n",
    "Strikethrough uses two tildes. ~~Scratch this.~~"
   ]
  },
  {
   "cell_type": "markdown",
   "id": "6e337722-d7d9-48fa-9b6a-26ef6c0994cd",
   "metadata": {},
   "source": [
    "## 3 Lists\n",
    "1. First ordered list item\n",
    "2. Another item\n",
    "  * Unordered sub-list. \n",
    "1. Actual numbers don't matter, just that it's a number\n",
    "  1. Ordered sub-list\n",
    "4. And another item.\n",
    "\n",
    "   You can have properly indented paragraphs within list items. Notice the blank line above, and the leading spaces (at least one, but we'll use three here to also align the raw Markdown).\n",
    "\n",
    "   To have a line break without a paragraph, you will need to use two trailing spaces.  \n",
    "   Note that this line is separate, but within the same paragraph.  \n",
    "   (This is contrary to the typical GFM line break behaviour, where trailing spaces are not required.)\n",
    "\n",
    "* Unordered list can use asterisks\n",
    "- Or minuses\n",
    "+ Or pluses"
   ]
  },
  {
   "cell_type": "markdown",
   "id": "2f0e0a9c-03df-49c2-89e2-b13ae229f07f",
   "metadata": {},
   "source": [
    "## 4 Links\n",
    "[I'm an inline-style link](https://www.google.com)\n",
    "\n",
    "[I'm an inline-style link with title](https://www.google.com \"Google's Homepage\")\n",
    "\n",
    "[I'm a reference-style link][Arbitrary case-insensitive reference text]\n",
    "\n",
    "[I'm a relative reference to a repository file](../blob/master/LICENSE)\n",
    "\n",
    "[You can use numbers for reference-style link definitions][1]\n",
    "\n",
    "Or leave it empty and use the [link text itself].\n",
    "\n",
    "URLs and URLs in angle brackets will automatically get turned into links. \n",
    "http://www.example.com or <http://www.example.com> and sometimes \n",
    "example.com (but not on Github, for example).\n",
    "\n",
    "Some text to show that the reference links can follow later.\n",
    "\n",
    "[arbitrary case-insensitive reference text]: https://www.mozilla.org\n",
    "[1]: http://slashdot.org\n",
    "[link text itself]: http://www.reddit.com"
   ]
  },
  {
   "cell_type": "markdown",
   "id": "8edb0bca-6f53-4644-b1b4-4b97f650752e",
   "metadata": {},
   "source": [
    "## 5 Other Tips\n",
    "[Visit Website](https://github.com/adam-p/markdown-here/wiki/Markdown-Cheatsheet)"
   ]
  },
  {
   "cell_type": "markdown",
   "id": "a4995e22-4944-4bb1-8430-ccc8a75d9cb6",
   "metadata": {
    "tags": []
   },
   "source": [
    "# Jupyter Notebook in The Internet\n",
    "[1. Explorating Data Science](https://nbviewer.jupyter.org/github/Tanu-N-Prabhu/Python/blob/master/Exploratory_data_Analysis.ipynb)  \n",
    "[2. Jupyter Notebook Collection](https://github.com/jupyter/jupyter/wiki#programming-and-computer-science)  \n",
    "[3. Data Integration/Cleansing at a smaller scale](https://towardsdatascience.com/data-cleaning-with-python-using-pandas-library-c6f4a68ea8eb)  \n",
    "[4. Iris Datasets](https://www.kaggle.com/lalitharajesh/iris-dataset-exploratory-data-analysis)\n"
   ]
  },
  {
   "cell_type": "markdown",
   "id": "d9406513-78cf-4170-b823-0cf19b30d1a0",
   "metadata": {},
   "source": []
  }
 ],
 "metadata": {
  "kernelspec": {
   "display_name": "Python",
   "language": "python",
   "name": "conda-env-python-py"
  },
  "language_info": {
   "codemirror_mode": {
    "name": "ipython",
    "version": 3
   },
   "file_extension": ".py",
   "mimetype": "text/x-python",
   "name": "python",
   "nbconvert_exporter": "python",
   "pygments_lexer": "ipython3",
   "version": "3.7.12"
  }
 },
 "nbformat": 4,
 "nbformat_minor": 5
}
